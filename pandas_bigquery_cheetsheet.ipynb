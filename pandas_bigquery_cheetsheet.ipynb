{
 "cells": [
  {
   "cell_type": "markdown",
   "metadata": {},
   "source": [
    "# 概要\n",
    "BigQueryの構文と対応したPandasの構文を記載する"
   ]
  },
  {
   "cell_type": "markdown",
   "metadata": {},
   "source": [
    "## BigQueryテストデータ(単一テーブル)\n",
    "単一テーブルのテストデータを以下の通り用意する。\n",
    "```\n",
    "#standardSQL\n",
    "WITH\n",
    "  A AS(\n",
    "  SELECT\n",
    "    *\n",
    "  FROM\n",
    "    UNNEST(ARRAY<STRUCT<dim1 STRING, dim2 STRING, dim3 STRING, mes1 INT64, mes2 FLOAT64>>[ \n",
    "      ('AAA', '001', 'val1', 100, 3.4),\n",
    "      ('AAA', '002', 'val2', 200, 5.7),\n",
    "      ('BBB', '003', 'val3', -100, NULL),\n",
    "      ('CCC', '001', 'val4', NULL, -0.4),\n",
    "      (NULL, '002',  'val5', 300, 5.4),\n",
    "      ('DDD', NULL,  'val6', 400, 7.5),\n",
    "      (NULL, NULL,   'val7', 500, 8.4)\n",
    "      ]))\n",
    "SELECT\n",
    "  *\n",
    "FROM\n",
    "  A\n",
    "```\n",
    "![src_002.PNG](img/pandas_bigquery_cheetsheet/src_002.PNG)\n",
    "以降はWITH句の記載を省略する。"
   ]
  },
  {
   "cell_type": "code",
   "execution_count": 30,
   "metadata": {},
   "outputs": [
    {
     "data": {
      "text/html": [
       "<div>\n",
       "<style scoped>\n",
       "    .dataframe tbody tr th:only-of-type {\n",
       "        vertical-align: middle;\n",
       "    }\n",
       "\n",
       "    .dataframe tbody tr th {\n",
       "        vertical-align: top;\n",
       "    }\n",
       "\n",
       "    .dataframe thead th {\n",
       "        text-align: right;\n",
       "    }\n",
       "</style>\n",
       "<table border=\"1\" class=\"dataframe\">\n",
       "  <thead>\n",
       "    <tr style=\"text-align: right;\">\n",
       "      <th></th>\n",
       "      <th>dim1</th>\n",
       "      <th>dim2</th>\n",
       "      <th>dim3</th>\n",
       "      <th>mes1</th>\n",
       "      <th>mes2</th>\n",
       "    </tr>\n",
       "  </thead>\n",
       "  <tbody>\n",
       "    <tr>\n",
       "      <th>0</th>\n",
       "      <td>AAA</td>\n",
       "      <td>001</td>\n",
       "      <td>val1</td>\n",
       "      <td>100.0</td>\n",
       "      <td>3.4</td>\n",
       "    </tr>\n",
       "    <tr>\n",
       "      <th>1</th>\n",
       "      <td>AAA</td>\n",
       "      <td>002</td>\n",
       "      <td>val2</td>\n",
       "      <td>200.0</td>\n",
       "      <td>5.7</td>\n",
       "    </tr>\n",
       "    <tr>\n",
       "      <th>2</th>\n",
       "      <td>BBB</td>\n",
       "      <td>003</td>\n",
       "      <td>val3</td>\n",
       "      <td>-100.0</td>\n",
       "      <td>NaN</td>\n",
       "    </tr>\n",
       "    <tr>\n",
       "      <th>3</th>\n",
       "      <td>CCC</td>\n",
       "      <td>002</td>\n",
       "      <td>val4</td>\n",
       "      <td>NaN</td>\n",
       "      <td>-0.4</td>\n",
       "    </tr>\n",
       "    <tr>\n",
       "      <th>4</th>\n",
       "      <td>NaN</td>\n",
       "      <td>003</td>\n",
       "      <td>val5</td>\n",
       "      <td>300.0</td>\n",
       "      <td>5.4</td>\n",
       "    </tr>\n",
       "    <tr>\n",
       "      <th>5</th>\n",
       "      <td>DDD</td>\n",
       "      <td>NaN</td>\n",
       "      <td>val6</td>\n",
       "      <td>400.0</td>\n",
       "      <td>7.5</td>\n",
       "    </tr>\n",
       "    <tr>\n",
       "      <th>6</th>\n",
       "      <td>NaN</td>\n",
       "      <td>NaN</td>\n",
       "      <td>val7</td>\n",
       "      <td>500.0</td>\n",
       "      <td>8.4</td>\n",
       "    </tr>\n",
       "  </tbody>\n",
       "</table>\n",
       "</div>"
      ],
      "text/plain": [
       "  dim1 dim2  dim3   mes1  mes2\n",
       "0  AAA  001  val1  100.0   3.4\n",
       "1  AAA  002  val2  200.0   5.7\n",
       "2  BBB  003  val3 -100.0   NaN\n",
       "3  CCC  002  val4    NaN  -0.4\n",
       "4  NaN  003  val5  300.0   5.4\n",
       "5  DDD  NaN  val6  400.0   7.5\n",
       "6  NaN  NaN  val7  500.0   8.4"
      ]
     },
     "execution_count": 30,
     "metadata": {},
     "output_type": "execute_result"
    }
   ],
   "source": [
    "# Pandasテストデータ(単一テーブル)\n",
    "import numpy as np\n",
    "import pandas as pd\n",
    "# np.nan(NULL)があるときは、int型に指定できない\n",
    "df_A = pd.DataFrame({'dim1' : pd.Series(['AAA', 'AAA', 'BBB', 'CCC', np.nan, 'DDD', np.nan], dtype='str'),\n",
    "                     'dim2' : pd.Series(['001', '002', '003', '002', '003', np.nan, np.nan], dtype='str'),\n",
    "                     'dim3' : pd.Series(['val1', 'val2', 'val3', 'val4', 'val5', 'val6', 'val7'], dtype='str'),\n",
    "                     'mes1' : pd.Series([100, 200, -100, np.nan, 300, 400, 500], dtype='float64'), \n",
    "                     'mes2' : [3.4, 5.7, np.nan, -0.4, 5.4, 7.5, 8.4]})\n",
    "df_A"
   ]
  },
  {
   "cell_type": "code",
   "execution_count": 33,
   "metadata": {
    "scrolled": true
   },
   "outputs": [
    {
     "name": "stdout",
     "output_type": "stream",
     "text": [
      "<class 'pandas.core.frame.DataFrame'>\n",
      "RangeIndex: 7 entries, 0 to 6\n",
      "Data columns (total 5 columns):\n",
      " #   Column  Non-Null Count  Dtype  \n",
      "---  ------  --------------  -----  \n",
      " 0   dim1    5 non-null      object \n",
      " 1   dim2    5 non-null      object \n",
      " 2   dim3    7 non-null      object \n",
      " 3   mes1    6 non-null      float64\n",
      " 4   mes2    6 non-null      float64\n",
      "dtypes: float64(2), object(3)\n",
      "memory usage: 408.0+ bytes\n"
     ]
    }
   ],
   "source": [
    "# スキーマ情報など\n",
    "df_A.info()"
   ]
  },
  {
   "cell_type": "markdown",
   "metadata": {},
   "source": [
    "### Group By\n",
    "BigQuery\n",
    "```\n",
    "SELECT\n",
    "  dim1,\n",
    "  sum(mes1) sum_mes1,\n",
    "  COUNT(DISTINCT mes2) count_distinct_mes2,\n",
    "  AVG(mes2) avg_mes2\n",
    "FROM\n",
    "  A\n",
    "GROUP BY\n",
    "  dim1\n",
    "```"
   ]
  },
  {
   "cell_type": "code",
   "execution_count": 53,
   "metadata": {},
   "outputs": [
    {
     "data": {
      "text/html": [
       "<div>\n",
       "<style scoped>\n",
       "    .dataframe tbody tr th:only-of-type {\n",
       "        vertical-align: middle;\n",
       "    }\n",
       "\n",
       "    .dataframe tbody tr th {\n",
       "        vertical-align: top;\n",
       "    }\n",
       "\n",
       "    .dataframe thead tr th {\n",
       "        text-align: left;\n",
       "    }\n",
       "</style>\n",
       "<table border=\"1\" class=\"dataframe\">\n",
       "  <thead>\n",
       "    <tr>\n",
       "      <th></th>\n",
       "      <th>dim1</th>\n",
       "      <th>mes1</th>\n",
       "      <th colspan=\"2\" halign=\"left\">mes2</th>\n",
       "    </tr>\n",
       "    <tr>\n",
       "      <th></th>\n",
       "      <th></th>\n",
       "      <th>sum</th>\n",
       "      <th>nunique</th>\n",
       "      <th>mean</th>\n",
       "    </tr>\n",
       "  </thead>\n",
       "  <tbody>\n",
       "    <tr>\n",
       "      <th>0</th>\n",
       "      <td>AAA</td>\n",
       "      <td>300.0</td>\n",
       "      <td>2.0</td>\n",
       "      <td>4.55</td>\n",
       "    </tr>\n",
       "    <tr>\n",
       "      <th>1</th>\n",
       "      <td>BBB</td>\n",
       "      <td>-100.0</td>\n",
       "      <td>0.0</td>\n",
       "      <td>NaN</td>\n",
       "    </tr>\n",
       "    <tr>\n",
       "      <th>2</th>\n",
       "      <td>CCC</td>\n",
       "      <td>0.0</td>\n",
       "      <td>1.0</td>\n",
       "      <td>-0.40</td>\n",
       "    </tr>\n",
       "    <tr>\n",
       "      <th>3</th>\n",
       "      <td>DDD</td>\n",
       "      <td>400.0</td>\n",
       "      <td>1.0</td>\n",
       "      <td>7.50</td>\n",
       "    </tr>\n",
       "  </tbody>\n",
       "</table>\n",
       "</div>"
      ],
      "text/plain": [
       "  dim1   mes1    mes2      \n",
       "          sum nunique  mean\n",
       "0  AAA  300.0     2.0  4.55\n",
       "1  BBB -100.0     0.0   NaN\n",
       "2  CCC    0.0     1.0 -0.40\n",
       "3  DDD  400.0     1.0  7.50"
      ]
     },
     "execution_count": 53,
     "metadata": {},
     "output_type": "execute_result"
    }
   ],
   "source": [
    "# Pandas\n",
    "df_A.groupby(['dim1']).agg({'mes1' : 'sum', 'mes2' : [pd.Series.nunique, 'mean']}).reset_index()\n",
    "# .reset_index()\n",
    "# BBBはnp.nanなので、ユニーク数は0になる\n",
    "# CCCのsum結果はBigQueryではnullだが、python的には0となる。lambda式で集計すればnanで出る\n",
    "# dim1軸のnp.nanについては集計されない。集計対象としたい場合はfillnaで変換するのが無難"
   ]
  },
  {
   "cell_type": "code",
   "execution_count": null,
   "metadata": {},
   "outputs": [],
   "source": []
  }
 ],
 "metadata": {
  "kernelspec": {
   "display_name": "Python 3",
   "language": "python",
   "name": "python3"
  },
  "language_info": {
   "codemirror_mode": {
    "name": "ipython",
    "version": 3
   },
   "file_extension": ".py",
   "mimetype": "text/x-python",
   "name": "python",
   "nbconvert_exporter": "python",
   "pygments_lexer": "ipython3",
   "version": "3.7.6"
  }
 },
 "nbformat": 4,
 "nbformat_minor": 4
}
